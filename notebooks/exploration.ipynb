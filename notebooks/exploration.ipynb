{
 "cells": [
  {
   "cell_type": "code",
   "execution_count": 2,
   "metadata": {},
   "outputs": [],
   "source": [
    "import duckdb as ddb"
   ]
  },
  {
   "cell_type": "code",
   "execution_count": 4,
   "metadata": {},
   "outputs": [],
   "source": [
    "ddb.sql(\"INSTALL httpfs; LOAD httpfs\")"
   ]
  },
  {
   "cell_type": "code",
   "execution_count": 7,
   "metadata": {},
   "outputs": [],
   "source": [
    "con = ddb.connect(\"/workspace/Air-quality-dashboard/air_quality.db\")"
   ]
  },
  {
   "cell_type": "code",
   "execution_count": 11,
   "metadata": {},
   "outputs": [
    {
     "data": {
      "text/plain": [
       "<duckdb.duckdb.DuckDBPyConnection at 0x7f3d52572cf0>"
      ]
     },
     "execution_count": 11,
     "metadata": {},
     "output_type": "execute_result"
    }
   ],
   "source": [
    "con.execute(\"CREATE schema IF NOT EXISTS raw\")"
   ]
  },
  {
   "cell_type": "code",
   "execution_count": null,
   "metadata": {},
   "outputs": [],
   "source": [
    "con.sql(\"\"\"\n",
    "        CREATE TABLE IF NOT EXISTED raw,air_quality_data(\n",
    "        location_id BIGINT,\n",
    "        sensors_id BIGINT,\n",
    "        \"location\" VARCHAR,\n",
    "        \"datetime\" TIMESTAMP,\n",
    "        lat DOUBLE,\n",
    "        lon DOUBLE,\n",
    "        \"parameter\" VARCHAR,\n",
    "        units VARCHAR,\n",
    "        \"value\" DOUBLE,\n",
    "        \"month\" VARCHAR,\n",
    "        \"year\" BEGINT,\n",
    "        ingestion_datetime TIMESTAMP\n",
    "        );\n",
    "        \"\"\")"
   ]
  }
 ],
 "metadata": {
  "kernelspec": {
   "display_name": "Python 3",
   "language": "python",
   "name": "python3"
  },
  "language_info": {
   "codemirror_mode": {
    "name": "ipython",
    "version": 3
   },
   "file_extension": ".py",
   "mimetype": "text/x-python",
   "name": "python",
   "nbconvert_exporter": "python",
   "pygments_lexer": "ipython3",
   "version": "3.12.9"
  }
 },
 "nbformat": 4,
 "nbformat_minor": 2
}
