{
 "cells": [
  {
   "cell_type": "code",
   "execution_count": 5,
   "metadata": {},
   "outputs": [],
   "source": [
    "import json\n",
    "from openaq import OpenAQ\n"
   ]
  },
  {
   "cell_type": "code",
   "execution_count": 6,
   "metadata": {},
   "outputs": [],
   "source": [
    "with open(\"/workspace/Air-quality-dashboard/secrets.json\") as f:\n",
    "    secrets = json.load(f)\n",
    "    f.close()\n",
    "\n",
    "openaq_key = secrets[\"openaq-api-key\"]"
   ]
  },
  {
   "cell_type": "code",
   "execution_count": 7,
   "metadata": {},
   "outputs": [
    {
     "data": {
      "text/plain": [
       "<openaq._sync.client.OpenAQ at 0x7f6fba6d9fd0>"
      ]
     },
     "execution_count": 7,
     "metadata": {},
     "output_type": "execute_result"
    }
   ],
   "source": [
    "client = OpenAQ(api_key=openaq_key)\n",
    "client\n"
   ]
  },
  {
   "cell_type": "code",
   "execution_count": 8,
   "metadata": {},
   "outputs": [
    {
     "data": {
      "text/plain": [
       "Meta(name='openaq-api', website='/', page=1, limit=150, found='>150')"
      ]
     },
     "execution_count": 8,
     "metadata": {},
     "output_type": "execute_result"
    }
   ],
   "source": [
    "in_bbox_search_loaction = client.locations.list(\n",
    "    bbox=(68.378906,7.362467,94.746094,37.579413),\n",
    "    limit=150\n",
    ")\n",
    "\n",
    "in_bbox_search_loaction.meta"
   ]
  },
  {
   "cell_type": "code",
   "execution_count": 9,
   "metadata": {},
   "outputs": [
    {
     "data": {
      "text/plain": [
       "{'id': 12,\n",
       " 'name': 'SPARTAN - IIT Kanpur',\n",
       " 'locality': None,\n",
       " 'timezone': 'Asia/Kolkata',\n",
       " 'country': CountryBase(id=9, code='IN', name='India'),\n",
       " 'owner': OwnerBase(id=4, name='Unknown Governmental Organization'),\n",
       " 'provider': ProviderBase(id=226, name='Spartan'),\n",
       " 'is_mobile': False,\n",
       " 'is_monitor': True,\n",
       " 'instruments': [InstrumentBase(id=2, name='Government Monitor')],\n",
       " 'sensors': [SensorBase(id=23, name='pm25 µg/m³', parameter=ParameterBase(id=2, name='pm25', units='µg/m³', display_name='PM2.5'))],\n",
       " 'coordinates': Coordinates(latitude=26.519, longitude=80.233),\n",
       " 'bounds': [80.233, 26.519, 80.233, 26.519],\n",
       " 'distance': None,\n",
       " 'datetime_first': None,\n",
       " 'datetime_last': None}"
      ]
     },
     "execution_count": 9,
     "metadata": {},
     "output_type": "execute_result"
    }
   ],
   "source": [
    "in_bbox_search_loaction.results[0].__dict__"
   ]
  },
  {
   "cell_type": "code",
   "execution_count": 10,
   "metadata": {},
   "outputs": [
    {
     "data": {
      "text/plain": [
       "{12: 'SPARTAN - IIT Kanpur',\n",
       " 13: 'Delhi Technological University, Delhi - CPCB',\n",
       " 15: 'IGI Airport',\n",
       " 16: 'Civil Lines',\n",
       " 17: 'R K Puram, Delhi - DPCC',\n",
       " 22: 'SPARTAN - Dhaka University',\n",
       " 50: 'Punjabi Bagh, Delhi - DPCC',\n",
       " 103: 'Income Tax Office, Delhi - CPCB',\n",
       " 235: 'Anand Vihar, New Delhi - DPCC',\n",
       " 236: 'Mandir Marg, Delhi - DPCC',\n",
       " 286: 'Collectorate - Gaya - BSPCB',\n",
       " 301: 'Vikas Sadan, Gurugram - HSPCB',\n",
       " 346: 'MD University, Rohtak - HSPCB',\n",
       " 354: 'Lalbagh, DN Park',\n",
       " 378: 'Alandur Bus Depot',\n",
       " 407: 'Zoo Park, Hyderabad - TSPCB',\n",
       " 412: 'Peenya, Bengaluru - KSPCB',\n",
       " 431: 'IHBAS, Delhi - CPCB',\n",
       " 594: 'BTM Layout, Bengaluru - KSPCB',\n",
       " 697: 'Haldia, Haldia - WBPCB',\n",
       " 703: 'Collectorate Jodhpur - RSPCB',\n",
       " 716: 'Rabindra Bharati University, Kolkata - WBSPCB',\n",
       " 797: 'City Railway Station - KSPCB',\n",
       " 854: 'Chandrapur',\n",
       " 860: 'Sanjay Palace, Agra - UPPCB',\n",
       " 910: 'Victoria Memorial - WBSPCB',\n",
       " 985: 'Collectorate - Muzaffarpur - BSPCB',\n",
       " 2345: 'VK Industrial Area Jaipur - RSPCB',\n",
       " 2445: 'US Diplomatic Post: Dhaka',\n",
       " 2456: 'Talkatora District Industries Center, Lucknow - CPCB',\n",
       " 2459: 'US Diplomatic Post: Hyderabad',\n",
       " 2460: 'US Diplomatic Post: Kolkata',\n",
       " 2461: 'US Diplomatic Post: Chennai',\n",
       " 2463: 'Central School',\n",
       " 2503: 'Shadipur, Delhi - CPCB',\n",
       " 2549: 'IIT',\n",
       " 2583: 'Sector-6, Panchkula - HSPCB ',\n",
       " 2585: 'AAQMS Karve Road Pune',\n",
       " 2586: 'Manali, Chennai - CPCB',\n",
       " 2587: 'Sector16A, Faridabad - HSPCB',\n",
       " 2589: 'SaneguravaHalli - KSPCB',\n",
       " 2591: 'Ardhali Bazar',\n",
       " 2592: 'BWSSB Kadabesanahalli, Bengaluru - KSPCB',\n",
       " 2593: 'IGSC Planetarium Complex - Patna - BSPCB',\n",
       " 2594: 'Sanathnagar, Hyderabad - TSPCB',\n",
       " 2595: 'Nehru Nagar',\n",
       " 2596: 'Solapur, Solapur - MPCB',\n",
       " 2597: 'US Diplomatic Post: New Delhi',\n",
       " 2598: 'Navi Mumbai Municipal Corporation Airoli',\n",
       " 3459: 'Embassy Kathmandu',\n",
       " 3460: 'Phora Durbar Kathman',\n",
       " 5404: 'Pusa, Delhi - IMD',\n",
       " 5408: 'Secretariat, Amaravati - APPCB',\n",
       " 5443: 'Mahakaleshwar Temple, Ujjain - MPPCB',\n",
       " 5505: 'Birla Staff colony, Satna - MPPCB',\n",
       " 5509: 'Anand Vihar, Delhi - DPCC',\n",
       " 5540: 'Punjabi Bagh, Delhi - DPCC',\n",
       " 5541: 'Burari Crossing, New Delhi - IMD',\n",
       " 5542: 'Civil Line, Jalandhar - PPCB',\n",
       " 5544: 'Model Town, Patiala - PPCB',\n",
       " 5546: 'Tata Stadium - Jorapokhar - JSPCB',\n",
       " 5547: 'BWSSB Kadabesanahalli, Bengaluru - CPCB',\n",
       " 5548: 'BTM Layout, Bengaluru - CPCB',\n",
       " 5551: 'Golden Temple, Amritsar - PPCB',\n",
       " 5552: 'MD University, Rohtak - HSPCB',\n",
       " 5558: 'Alandur Bus Depot, Chennai - CPCB',\n",
       " 5559: 'Collectorate, Gaya - BSPCB',\n",
       " 5565: 'MIDC Khutala, Chandrapur - MPCB',\n",
       " 5566: 'Talcher Coalfields,Talcher - OSPCB',\n",
       " 5569: 'Punjab Agricultural University, Ludhiana - PPCB',\n",
       " 5570: 'Aya Nagar, New Delhi - IMD',\n",
       " 5574: 'City Railway Station, Bengaluru - KSPCB',\n",
       " 5576: 'Moti Doongri, Alwar - RSPCB',\n",
       " 5581: 'Pusa, New Delhi - IMD',\n",
       " 5585: 'Ashok Nagar, Udaipur - RSPCB',\n",
       " 5586: 'Sirifort, Delhi - CPCB',\n",
       " 5587: 'Collectorate, Jodhpur - RSPCB',\n",
       " 5588: 'RIICO Ind. Area III, Bhiwadi - RSPCB',\n",
       " 5590: 'Ardhali Bazar, Varanasi - UPPCB',\n",
       " 5592: 'Gangapur Road, Nashik - MPCB',\n",
       " 5593: 'Pimpleshwar Mandir, Thane - MPCB',\n",
       " 5594: 'Muzaffarpur Collectorate, Muzaffarpur - BSPCB',\n",
       " 5596: 'Secretariat, Amaravati - APPCB',\n",
       " 5598: 'Sector - 125, Noida, UP - UPPCB',\n",
       " 5599: 'Bollaram Industrial Area, Hyderabad - TSPCB',\n",
       " 5601: 'Lajpat Nagar, Moradabad - UPPCB',\n",
       " 5602: 'Asansol Court Area, Asansol - WBPCB',\n",
       " 5603: 'Sector-2 Industrial Area, Pithampur - MPPCB',\n",
       " 5604: 'Nishant Ganj, Lucknow - UPPCB',\n",
       " 5607: 'Peenya, Bengaluru - CPCB',\n",
       " 5608: 'GM Office, Brajrajnagar - OSPCB',\n",
       " 5609: 'Anam Kala Kendram, Rajamahendravaram - APPCB',\n",
       " 5610: 'North Campus, DU, Delhi - IMD',\n",
       " 5611: 'Chandrapur, Chandrapur - MPCB',\n",
       " 5612: 'Shastri Nagar, Jaipur - RSPCB',\n",
       " 5613: 'ITO, New Delhi - CPCB',\n",
       " 5614: 'Padmapukur, Howrah - WBPCB',\n",
       " 5615: 'Sidhu Kanhu Indoor Stadium, Durgapur - WBPCB',\n",
       " 5616: 'Sector - 62, Noida, UP - IMD',\n",
       " 5617: 'Sector- 16A, Faridabad - HSPCB',\n",
       " 5619: 'Vindhyachal STPS, Singrauli - MPPCB',\n",
       " 5621: 'Opp GPO Civil Lines, Nagpur - MPCB',\n",
       " 5622: 'NSIT Dwarka, Delhi - CPCB',\n",
       " 5623: 'Central University, Hyderabad - TSPCB',\n",
       " 5624: 'IDA Pashamylaram, Hyderabad - TSPCB',\n",
       " 5625: 'RIMT University, Mandi Gobindgarh - PPCB',\n",
       " 5626: 'DTU, New Delhi - CPCB',\n",
       " 5627: 'CRRI Mathura Road, New Delhi - IMD',\n",
       " 5628: 'GVM Corporation, Visakhapatnam - APPCB',\n",
       " 5630: 'Shadipur, Delhi - CPCB',\n",
       " 5631: 'Maninagar, Ahmedabad - GPCB',\n",
       " 5632: 'Sector-D Industrial Area, Mandideep - MPPCB',\n",
       " 5633: 'Police Commissionerate, Jaipur - RSPCB',\n",
       " 5634: 'Lodhi Road, New Delhi - IMD',\n",
       " 5635: 'Adarsh Nagar, Jaipur - RSPCB',\n",
       " 5636: 'Shrinath Puram, Kota - RSPCB',\n",
       " 5638: 'Indira Colony Vistar, Pali - RSPCB',\n",
       " 5639: 'R K Puram, New Delhi - DPCC',\n",
       " 5641: 'Mandir Marg, New Delhi - DPCC',\n",
       " 5642: 'More Chowk Waluj, Aurangabad - MPCB',\n",
       " 5644: 'Sanegurava Halli, Bengaluru - KSPCB',\n",
       " 5645: 'ICRISAT Patancheru, Hyderabad - TSPCB',\n",
       " 5646: 'Plammoodu, Thiruvananthapuram - Kerala PCB',\n",
       " 5647: 'Sanathnagar, Hyderabad - TSPCB',\n",
       " 5648: 'Ward-32 Bapupara, Siliguri - WBPCB',\n",
       " 5649: 'Tirumala, Tirupati - APPCB',\n",
       " 5650: 'IGI Airport (T3), Delhi - IMD',\n",
       " 5652: 'IGSC Planetarium Complex, Patna - BSPCB',\n",
       " 5655: 'Velachery Res. Area, Chennai - CPCB',\n",
       " 5657: 'Central School, Lucknow - CPCB',\n",
       " 5659: 'Lalbagh, Lucknow - CPCB',\n",
       " 5661: 'Karve Road Pune, Pune - MPCB',\n",
       " 5662: 'Nehru Nagar, Kanpur - UPPCB',\n",
       " 5664: 'PWD Grounds, Vijayawada - APPCB',\n",
       " 5665: 'Vasundhara, Ghaziabad - UPPCB',\n",
       " 5667: 'Bhopal Chauraha, Dewas - MPPCB',\n",
       " 5742: 'Patparganj, Delhi - DPCC',\n",
       " 5743: 'Rohini, Delhi - DPCC',\n",
       " 5744: 'Dr. Karni Singh Shooting Range, Delhi - DPCC',\n",
       " 5745: 'Ghusuri, Howrah - WBPCB',\n",
       " 5753: 'Vivek Vihar, Delhi - DPCC',\n",
       " 5754: 'Jawaharlal Nehru Stadium, Delhi - DPCC',\n",
       " 5755: 'Major Dhyan Chand National Stadium, Delhi - DPCC',\n",
       " 5759: 'Sonia Vihar, Delhi - DPCC',\n",
       " 5760: 'Dwarka-Sector 8, Delhi - DPCC ',\n",
       " 5761: 'Jahangirpuri, Delhi - DPCC',\n",
       " 5762: 'Ashok Vihar, Delhi - DPCC',\n",
       " 5763: 'Narela, Delhi - DPCC',\n",
       " 5765: 'Okhla Phase-2, Delhi - DPCC',\n",
       " 5766: 'Nehru Nagar, Delhi - DPCC'}"
      ]
     },
     "execution_count": 10,
     "metadata": {},
     "output_type": "execute_result"
    }
   ],
   "source": [
    "locations_info ={}\n",
    "\n",
    "for location in in_bbox_search_loaction.results:\n",
    "    locations_info[location.id] = location.name\n",
    "\n",
    "locations_info"
   ]
  },
  {
   "cell_type": "code",
   "execution_count": 11,
   "metadata": {},
   "outputs": [
    {
     "data": {
      "text/plain": [
       "150"
      ]
     },
     "execution_count": 11,
     "metadata": {},
     "output_type": "execute_result"
    }
   ],
   "source": [
    "len(locations_info)"
   ]
  },
  {
   "cell_type": "code",
   "execution_count": 12,
   "metadata": {},
   "outputs": [],
   "source": [
    "with open(\"locations.json\" ,\"w\", encoding= \"utf-8\")as f:\n",
    "    json.dump(locations_info, f ,ensure_ascii= False, indent= 4)\n",
    "\n",
    "    f.close()"
   ]
  },
  {
   "cell_type": "code",
   "execution_count": null,
   "metadata": {},
   "outputs": [],
   "source": []
  }
 ],
 "metadata": {
  "kernelspec": {
   "display_name": "Python 3",
   "language": "python",
   "name": "python3"
  },
  "language_info": {
   "codemirror_mode": {
    "name": "ipython",
    "version": 3
   },
   "file_extension": ".py",
   "mimetype": "text/x-python",
   "name": "python",
   "nbconvert_exporter": "python",
   "pygments_lexer": "ipython3",
   "version": "3.12.9"
  }
 },
 "nbformat": 4,
 "nbformat_minor": 2
}
